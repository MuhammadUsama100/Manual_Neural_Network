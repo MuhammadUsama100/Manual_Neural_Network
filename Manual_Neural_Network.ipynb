{
  "nbformat": 4,
  "nbformat_minor": 0,
  "metadata": {
    "colab": {
      "name": "Manual Neural Network.ipynb",
      "provenance": [],
      "collapsed_sections": [],
      "authorship_tag": "ABX9TyNXwNGSvoIaHsyNR73l/hdD",
      "include_colab_link": true
    },
    "kernelspec": {
      "name": "python3",
      "display_name": "Python 3"
    }
  },
  "cells": [
    {
      "cell_type": "markdown",
      "metadata": {
        "id": "view-in-github",
        "colab_type": "text"
      },
      "source": [
        "<a href=\"https://colab.research.google.com/github/MuhammadUsama100/Manual_Neural_Network/blob/master/Manual_Neural_Network.ipynb\" target=\"_parent\"><img src=\"https://colab.research.google.com/assets/colab-badge.svg\" alt=\"Open In Colab\"/></a>"
      ]
    },
    {
      "cell_type": "markdown",
      "metadata": {
        "id": "-oR8J0onH5Gs",
        "colab_type": "text"
      },
      "source": [
        "# Manually Neural Network \n"
      ]
    },
    {
      "cell_type": "markdown",
      "metadata": {
        "id": "dbB_3tO-XHFw",
        "colab_type": "text"
      },
      "source": [
        "# Operation"
      ]
    },
    {
      "cell_type": "code",
      "metadata": {
        "id": "oNDffOxzXLia",
        "colab_type": "code",
        "colab": {}
      },
      "source": [
        "class Operation():\n",
        "  def __init__(self ,  input_nodes = []):\n",
        "    self.input_nodes = input_nodes\n",
        "    self.output_nodes = []\n",
        "\n",
        "    for node in input_nodes:\n",
        "      node.output_nodes.append(self)\n",
        "    \n",
        "    _default_graph.operations.append(self)\n",
        "    \n",
        "    def compute(self):\n",
        "      pass"
      ],
      "execution_count": 0,
      "outputs": []
    },
    {
      "cell_type": "code",
      "metadata": {
        "id": "fIgNw271YPDZ",
        "colab_type": "code",
        "colab": {}
      },
      "source": [
        "class Add(Operation):\n",
        "  def __init__ (self , x , y):\n",
        "    super().__init__([x,y])\n",
        "  def compute (self , x_var , y_var):\n",
        "    self.inputs = [x_var , y_var]\n",
        "    return x_var + y_var\n"
      ],
      "execution_count": 0,
      "outputs": []
    },
    {
      "cell_type": "code",
      "metadata": {
        "id": "9vo_W1s0ZEJ0",
        "colab_type": "code",
        "colab": {}
      },
      "source": [
        "class Multiply(Operation):\n",
        "  def __init__ (self , x , y):\n",
        "    super().__init__([x,y])\n",
        "  def compute (self , x_var , y_var):\n",
        "    self.inputs = [x_var , y_var]\n",
        "    return x_var * y_var"
      ],
      "execution_count": 0,
      "outputs": []
    },
    {
      "cell_type": "code",
      "metadata": {
        "id": "B1DCyVzbZOZR",
        "colab_type": "code",
        "colab": {}
      },
      "source": [
        "class MatrixMul(Operation):\n",
        "  def __init__ (self , x , y):\n",
        "    super().__init__([x,y])\n",
        "  def compute (self , x_var , y_var):\n",
        "    self.inputs = [x_var , y_var]\n",
        "    return x_var.dot(y_var)"
      ],
      "execution_count": 0,
      "outputs": []
    },
    {
      "cell_type": "code",
      "metadata": {
        "id": "lYF-IpsqZdY8",
        "colab_type": "code",
        "colab": {}
      },
      "source": [
        "class Placeholder():\n",
        "  def __init__(self) :\n",
        "    self.output_nodes =[]\n",
        "    _default_graph.placeholder.append(self)"
      ],
      "execution_count": 0,
      "outputs": []
    },
    {
      "cell_type": "code",
      "metadata": {
        "id": "pl3d3n3YazbT",
        "colab_type": "code",
        "colab": {}
      },
      "source": [
        "class Variable():\n",
        "  def __init__(self,  initial_value =  None ):\n",
        "    self.value =  initial_value\n",
        "    self.output_nodes =  []\n",
        "    _default_graph.variable.append(self)"
      ],
      "execution_count": 0,
      "outputs": []
    },
    {
      "cell_type": "code",
      "metadata": {
        "id": "k02bBuwTbZmU",
        "colab_type": "code",
        "colab": {}
      },
      "source": [
        "class Graph():\n",
        "  def __init__(self):\n",
        "    self.operations = []\n",
        "    self.placeholder = []\n",
        "    self.variable = []\n",
        "  def set_as_default(self):\n",
        "    global _default_graph\n",
        "    _default_graph = self "
      ],
      "execution_count": 0,
      "outputs": []
    },
    {
      "cell_type": "markdown",
      "metadata": {
        "id": "RnNcVtaGcxDt",
        "colab_type": "text"
      },
      "source": [
        "z = Ax + b \n",
        "\n",
        "A = 10 \n",
        "\n",
        "b = 1 \n",
        "\n",
        "z = 10x + 1"
      ]
    },
    {
      "cell_type": "code",
      "metadata": {
        "id": "YXUSQdBTdgMU",
        "colab_type": "code",
        "colab": {}
      },
      "source": [
        "g = Graph()"
      ],
      "execution_count": 0,
      "outputs": []
    },
    {
      "cell_type": "code",
      "metadata": {
        "id": "ARcsqQ07dorN",
        "colab_type": "code",
        "colab": {}
      },
      "source": [
        "g.set_as_default()"
      ],
      "execution_count": 0,
      "outputs": []
    },
    {
      "cell_type": "code",
      "metadata": {
        "id": "UE-QYoWidsSB",
        "colab_type": "code",
        "colab": {}
      },
      "source": [
        "A = Variable(10)"
      ],
      "execution_count": 0,
      "outputs": []
    },
    {
      "cell_type": "code",
      "metadata": {
        "id": "x1_OeDBld_j-",
        "colab_type": "code",
        "colab": {}
      },
      "source": [
        "b = Variable(1)"
      ],
      "execution_count": 0,
      "outputs": []
    },
    {
      "cell_type": "code",
      "metadata": {
        "id": "FsORlpYVeSyk",
        "colab_type": "code",
        "colab": {}
      },
      "source": [
        "x = Placeholder()"
      ],
      "execution_count": 0,
      "outputs": []
    },
    {
      "cell_type": "code",
      "metadata": {
        "id": "F0_qjAWaeX4J",
        "colab_type": "code",
        "colab": {}
      },
      "source": [
        "y = Multiply(A , x)"
      ],
      "execution_count": 0,
      "outputs": []
    },
    {
      "cell_type": "code",
      "metadata": {
        "id": "QUn2PqKIfAAM",
        "colab_type": "code",
        "colab": {}
      },
      "source": [
        "z = Add(y,b)"
      ],
      "execution_count": 0,
      "outputs": []
    },
    {
      "cell_type": "code",
      "metadata": {
        "id": "OcJAEVyJfILp",
        "colab_type": "code",
        "colab": {}
      },
      "source": [
        "def traverse_postorder(operation):\n",
        "  nodes_postorder = []\n",
        "  def recurse(node):\n",
        "    if isinstance(node , Operation):\n",
        "      for input_node in node.input_nodes:\n",
        "        recurse(input_node)\n",
        "    nodes_postorder.append(node)\n",
        "  \n",
        "  recurse(operation)\n",
        "  return nodes_postorder"
      ],
      "execution_count": 0,
      "outputs": []
    },
    {
      "cell_type": "code",
      "metadata": {
        "id": "wz4coNl-gzZO",
        "colab_type": "code",
        "colab": {}
      },
      "source": [
        "class Session():\n",
        "  def run(self , operation , feed_dict = {}):\n",
        "    nodes_postorder = traverse_postorder(operation)\n",
        "    for node in nodes_postorder:\n",
        "      if type(node) == Placeholder:\n",
        "        node.output = feed_dict[node]\n",
        "      elif type(node) == Variable :\n",
        "        node.output = node.value\n",
        "      else :\n",
        "        # operation \n",
        "        node.inputs = [input_node.output for input_node in node.input_nodes]\n",
        "        node.output = node.compute(*node.inputs)\n",
        "      if type (node.output) ==list:\n",
        "        node.output = np.array(node.output)\n",
        "    return operation.output"
      ],
      "execution_count": 0,
      "outputs": []
    },
    {
      "cell_type": "code",
      "metadata": {
        "id": "ltibVM4CjHmH",
        "colab_type": "code",
        "colab": {}
      },
      "source": [
        "session = Session()"
      ],
      "execution_count": 0,
      "outputs": []
    },
    {
      "cell_type": "code",
      "metadata": {
        "id": "qVXJbCIAjYry",
        "colab_type": "code",
        "colab": {}
      },
      "source": [
        "result = session.run(operation = z , feed_dict = {x:10})"
      ],
      "execution_count": 0,
      "outputs": []
    },
    {
      "cell_type": "code",
      "metadata": {
        "id": "_qBOPp7yjto0",
        "colab_type": "code",
        "colab": {
          "base_uri": "https://localhost:8080/",
          "height": 35
        },
        "outputId": "fc8cd13a-9ab6-48cd-8ae1-2709d0a73c91"
      },
      "source": [
        "result"
      ],
      "execution_count": 81,
      "outputs": [
        {
          "output_type": "execute_result",
          "data": {
            "text/plain": [
              "101"
            ]
          },
          "metadata": {
            "tags": []
          },
          "execution_count": 81
        }
      ]
    },
    {
      "cell_type": "code",
      "metadata": {
        "id": "mIV2WLcmma0I",
        "colab_type": "code",
        "colab": {}
      },
      "source": [
        ""
      ],
      "execution_count": 0,
      "outputs": []
    }
  ]
}